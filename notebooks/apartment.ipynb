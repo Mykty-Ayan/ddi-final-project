{
 "cells": [
  {
   "cell_type": "code",
   "execution_count": 1,
   "metadata": {
    "collapsed": true
   },
   "outputs": [],
   "source": [
    "import pandas as pd"
   ]
  },
  {
   "cell_type": "code",
   "execution_count": 3,
   "outputs": [],
   "source": [
    "data = pd.read_csv('../data/apartments.csv')"
   ],
   "metadata": {
    "collapsed": false
   }
  },
  {
   "cell_type": "code",
   "execution_count": 7,
   "outputs": [
    {
     "data": {
      "text/plain": "                                                                          0  \\\n_id                                                61726ccfd9b0bc0e40542c46   \nadded_at                                                         2022-11-05   \naddress.city                                                         Astana   \naddress.corner_street                                               №_23-16   \naddress.country                                                   Kazahstan   \naddress.district                                                 Almaty_r-n   \naddress.house_num                                                       NaN   \naddress.street                                         Temirbeka_Zhurgenova   \narchived_at                          Будет продлено через <b>2&nbsp;дня</b>   \narea_with_kitchen                              67 м², Площадь кухни — 17 м²   \nbalcony                                       несколько балконов или лоджий   \nbathroom_count                                                  совмещенный   \nceiling                                                               2.8 м   \ncondition                                                               NaN   \ncreated_at                                         2021-08-27T00:00:00.000Z   \ndeleted_at                                   Будет удалено 5 ноября 2024 г.   \ndescription               Комнаты изолированы, встроенная кухня, новая с...   \ndoor_type                                                     бронированная   \nfloor                                                                8 из 9   \nfloor_type                                                           паркет   \nfull_address              Астана, Алматы р-н, Темирбека Жургенова — № 23-16   \nfurniture                                                         полностью   \ngeo_location.coordinates                               [71.50252,51.121004]   \ngeo_location.type                                                     Point   \nhouse_type                                                        кирпичный   \nis_dorm                                                                 нет   \nis_migrated                                                            True   \nlat                                                               51.121004   \nlocation                                                                NaN   \nlon                                                                71.50252   \nmaterial                                                          кирпичный   \nowner.isBuilder                                                       False   \nowner.isChecked                                                       False   \nowner.isComplex                                                       False   \nowner.isCurrentUser                                                   False   \nowner.isOwner                                                          True   \nowner.isPro                                                           False   \nowner.label                                                             NaN   \nowner.title                                                          Хозяин   \nparking                                                             паркинг   \nparsed_at                                          2022-11-10T00:00:00.000Z   \nprice                                                              29400000   \nprice_history             [{\"price\":25800000,\"parsed_at\":{\"$date\":\"2021-...   \nresidential_complex                                                Сатурн 2   \nrooms                                                                     2   \nsecurity                  охрана, домофон, кодовый замок, видеонаблюдени...   \nsquare                                                                 67.0   \nurl                                      https://krisha.kz/a/show/669773388   \nuuid                                   8da6a192-1df5-49e3-9bc5-e481b511daf3   \nyear                                                                   2022   \n\n                                                                          1  \n_id                                                61726f0bd9b0bc0e40542d59  \nadded_at                                                         2022-11-05  \naddress.city                                                         Astana  \naddress.corner_street                                                   NaN  \naddress.country                                                   Kazahstan  \naddress.district                                                 Almaty_r-n  \naddress.house_num                                                        17  \naddress.street                                                Kudayberdiuly  \narchived_at               Это объявление будет перенесено в архив через ...  \narea_with_kitchen                                                     66 м²  \nbalcony                                                              балкон  \nbathroom_count                                                          NaN  \nceiling                                                               2.8 м  \ncondition                                                           хорошее  \ncreated_at                                         2021-09-21T00:00:00.000Z  \ndeleted_at                                   Будет удалено 5 ноября 2024 г.  \ndescription               Пластиковые окна, неугловая, улучшенная, комна...  \ndoor_type                                                     бронированная  \nfloor                                                              10 из 11  \nfloor_type                                                          ламинат  \nfull_address                           Астана, Алматы р-н, Кудайбердиулы 17  \nfurniture                                                               NaN  \ngeo_location.coordinates                  [71.496933985902,51.158176882988]  \ngeo_location.type                                                     Point  \nhouse_type                                                       монолитный  \nis_dorm                                                                 нет  \nis_migrated                                                            True  \nlat                                                               51.158177  \nlocation                                                                NaN  \nlon                                                               71.496934  \nmaterial                                                         монолитный  \nowner.isBuilder                                                       False  \nowner.isChecked                                                       False  \nowner.isComplex                                                       False  \nowner.isCurrentUser                                                   False  \nowner.isOwner                                                          True  \nowner.isPro                                                           False  \nowner.label                                                             NaN  \nowner.title                                                          Хозяин  \nparking                                                             паркинг  \nparsed_at                                          2022-11-10T00:00:00.000Z  \nprice                                                              27000000  \nprice_history             [{\"price\":22500000,\"parsed_at\":{\"$date\":\"2021-...  \nresidential_complex                                                   Мунар  \nrooms                                                                     2  \nsecurity                  домофон, сигнализация, видеонаблюдение, видеод...  \nsquare                                                                 66.0  \nurl                                      https://krisha.kz/a/show/670351435  \nuuid                                   b0ddf5db-be15-4bad-903e-60cd27cc1066  \nyear                                                                   2014  ",
      "text/html": "<div>\n<style scoped>\n    .dataframe tbody tr th:only-of-type {\n        vertical-align: middle;\n    }\n\n    .dataframe tbody tr th {\n        vertical-align: top;\n    }\n\n    .dataframe thead th {\n        text-align: right;\n    }\n</style>\n<table border=\"1\" class=\"dataframe\">\n  <thead>\n    <tr style=\"text-align: right;\">\n      <th></th>\n      <th>0</th>\n      <th>1</th>\n    </tr>\n  </thead>\n  <tbody>\n    <tr>\n      <th>_id</th>\n      <td>61726ccfd9b0bc0e40542c46</td>\n      <td>61726f0bd9b0bc0e40542d59</td>\n    </tr>\n    <tr>\n      <th>added_at</th>\n      <td>2022-11-05</td>\n      <td>2022-11-05</td>\n    </tr>\n    <tr>\n      <th>address.city</th>\n      <td>Astana</td>\n      <td>Astana</td>\n    </tr>\n    <tr>\n      <th>address.corner_street</th>\n      <td>№_23-16</td>\n      <td>NaN</td>\n    </tr>\n    <tr>\n      <th>address.country</th>\n      <td>Kazahstan</td>\n      <td>Kazahstan</td>\n    </tr>\n    <tr>\n      <th>address.district</th>\n      <td>Almaty_r-n</td>\n      <td>Almaty_r-n</td>\n    </tr>\n    <tr>\n      <th>address.house_num</th>\n      <td>NaN</td>\n      <td>17</td>\n    </tr>\n    <tr>\n      <th>address.street</th>\n      <td>Temirbeka_Zhurgenova</td>\n      <td>Kudayberdiuly</td>\n    </tr>\n    <tr>\n      <th>archived_at</th>\n      <td>Будет продлено через &lt;b&gt;2&amp;nbsp;дня&lt;/b&gt;</td>\n      <td>Это объявление будет перенесено в архив через ...</td>\n    </tr>\n    <tr>\n      <th>area_with_kitchen</th>\n      <td>67 м², Площадь кухни — 17 м²</td>\n      <td>66 м²</td>\n    </tr>\n    <tr>\n      <th>balcony</th>\n      <td>несколько балконов или лоджий</td>\n      <td>балкон</td>\n    </tr>\n    <tr>\n      <th>bathroom_count</th>\n      <td>совмещенный</td>\n      <td>NaN</td>\n    </tr>\n    <tr>\n      <th>ceiling</th>\n      <td>2.8 м</td>\n      <td>2.8 м</td>\n    </tr>\n    <tr>\n      <th>condition</th>\n      <td>NaN</td>\n      <td>хорошее</td>\n    </tr>\n    <tr>\n      <th>created_at</th>\n      <td>2021-08-27T00:00:00.000Z</td>\n      <td>2021-09-21T00:00:00.000Z</td>\n    </tr>\n    <tr>\n      <th>deleted_at</th>\n      <td>Будет удалено 5 ноября 2024 г.</td>\n      <td>Будет удалено 5 ноября 2024 г.</td>\n    </tr>\n    <tr>\n      <th>description</th>\n      <td>Комнаты изолированы, встроенная кухня, новая с...</td>\n      <td>Пластиковые окна, неугловая, улучшенная, комна...</td>\n    </tr>\n    <tr>\n      <th>door_type</th>\n      <td>бронированная</td>\n      <td>бронированная</td>\n    </tr>\n    <tr>\n      <th>floor</th>\n      <td>8 из 9</td>\n      <td>10 из 11</td>\n    </tr>\n    <tr>\n      <th>floor_type</th>\n      <td>паркет</td>\n      <td>ламинат</td>\n    </tr>\n    <tr>\n      <th>full_address</th>\n      <td>Астана, Алматы р-н, Темирбека Жургенова — № 23-16</td>\n      <td>Астана, Алматы р-н, Кудайбердиулы 17</td>\n    </tr>\n    <tr>\n      <th>furniture</th>\n      <td>полностью</td>\n      <td>NaN</td>\n    </tr>\n    <tr>\n      <th>geo_location.coordinates</th>\n      <td>[71.50252,51.121004]</td>\n      <td>[71.496933985902,51.158176882988]</td>\n    </tr>\n    <tr>\n      <th>geo_location.type</th>\n      <td>Point</td>\n      <td>Point</td>\n    </tr>\n    <tr>\n      <th>house_type</th>\n      <td>кирпичный</td>\n      <td>монолитный</td>\n    </tr>\n    <tr>\n      <th>is_dorm</th>\n      <td>нет</td>\n      <td>нет</td>\n    </tr>\n    <tr>\n      <th>is_migrated</th>\n      <td>True</td>\n      <td>True</td>\n    </tr>\n    <tr>\n      <th>lat</th>\n      <td>51.121004</td>\n      <td>51.158177</td>\n    </tr>\n    <tr>\n      <th>location</th>\n      <td>NaN</td>\n      <td>NaN</td>\n    </tr>\n    <tr>\n      <th>lon</th>\n      <td>71.50252</td>\n      <td>71.496934</td>\n    </tr>\n    <tr>\n      <th>material</th>\n      <td>кирпичный</td>\n      <td>монолитный</td>\n    </tr>\n    <tr>\n      <th>owner.isBuilder</th>\n      <td>False</td>\n      <td>False</td>\n    </tr>\n    <tr>\n      <th>owner.isChecked</th>\n      <td>False</td>\n      <td>False</td>\n    </tr>\n    <tr>\n      <th>owner.isComplex</th>\n      <td>False</td>\n      <td>False</td>\n    </tr>\n    <tr>\n      <th>owner.isCurrentUser</th>\n      <td>False</td>\n      <td>False</td>\n    </tr>\n    <tr>\n      <th>owner.isOwner</th>\n      <td>True</td>\n      <td>True</td>\n    </tr>\n    <tr>\n      <th>owner.isPro</th>\n      <td>False</td>\n      <td>False</td>\n    </tr>\n    <tr>\n      <th>owner.label</th>\n      <td>NaN</td>\n      <td>NaN</td>\n    </tr>\n    <tr>\n      <th>owner.title</th>\n      <td>Хозяин</td>\n      <td>Хозяин</td>\n    </tr>\n    <tr>\n      <th>parking</th>\n      <td>паркинг</td>\n      <td>паркинг</td>\n    </tr>\n    <tr>\n      <th>parsed_at</th>\n      <td>2022-11-10T00:00:00.000Z</td>\n      <td>2022-11-10T00:00:00.000Z</td>\n    </tr>\n    <tr>\n      <th>price</th>\n      <td>29400000</td>\n      <td>27000000</td>\n    </tr>\n    <tr>\n      <th>price_history</th>\n      <td>[{\"price\":25800000,\"parsed_at\":{\"$date\":\"2021-...</td>\n      <td>[{\"price\":22500000,\"parsed_at\":{\"$date\":\"2021-...</td>\n    </tr>\n    <tr>\n      <th>residential_complex</th>\n      <td>Сатурн 2</td>\n      <td>Мунар</td>\n    </tr>\n    <tr>\n      <th>rooms</th>\n      <td>2</td>\n      <td>2</td>\n    </tr>\n    <tr>\n      <th>security</th>\n      <td>охрана, домофон, кодовый замок, видеонаблюдени...</td>\n      <td>домофон, сигнализация, видеонаблюдение, видеод...</td>\n    </tr>\n    <tr>\n      <th>square</th>\n      <td>67.0</td>\n      <td>66.0</td>\n    </tr>\n    <tr>\n      <th>url</th>\n      <td>https://krisha.kz/a/show/669773388</td>\n      <td>https://krisha.kz/a/show/670351435</td>\n    </tr>\n    <tr>\n      <th>uuid</th>\n      <td>8da6a192-1df5-49e3-9bc5-e481b511daf3</td>\n      <td>b0ddf5db-be15-4bad-903e-60cd27cc1066</td>\n    </tr>\n    <tr>\n      <th>year</th>\n      <td>2022</td>\n      <td>2014</td>\n    </tr>\n  </tbody>\n</table>\n</div>"
     },
     "execution_count": 7,
     "metadata": {},
     "output_type": "execute_result"
    }
   ],
   "source": [
    "data.head(2).T"
   ],
   "metadata": {
    "collapsed": false
   }
  },
  {
   "cell_type": "code",
   "execution_count": 5,
   "outputs": [
    {
     "data": {
      "text/plain": "39422"
     },
     "execution_count": 5,
     "metadata": {},
     "output_type": "execute_result"
    }
   ],
   "source": [
    "len(data)"
   ],
   "metadata": {
    "collapsed": false
   }
  },
  {
   "cell_type": "markdown",
   "source": [
    "The initial dataset contains **39422 samples** with **50 columns of features**. There are unuseful features such as *country* of apartment or *full_address*, etc. We do not need these columns, the reason is we have geolocation column which is combination of *longitude* and *latitude*."
   ],
   "metadata": {
    "collapsed": false
   }
  }
 ],
 "metadata": {
  "kernelspec": {
   "display_name": "Python 3",
   "language": "python",
   "name": "python3"
  },
  "language_info": {
   "codemirror_mode": {
    "name": "ipython",
    "version": 2
   },
   "file_extension": ".py",
   "mimetype": "text/x-python",
   "name": "python",
   "nbconvert_exporter": "python",
   "pygments_lexer": "ipython2",
   "version": "2.7.6"
  }
 },
 "nbformat": 4,
 "nbformat_minor": 0
}
